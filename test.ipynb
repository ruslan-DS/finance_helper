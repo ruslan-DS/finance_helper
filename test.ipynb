{
 "cells": [
  {
   "cell_type": "code",
   "execution_count": 1,
   "metadata": {},
   "outputs": [],
   "source": [
    "import requests\n",
    "import time\n",
    "import numpy as np\n",
    "import pickle\n",
    "from bs4 import BeautifulSoup\n",
    "from datetime import datetime, timedelta\n",
    "from sklearn.feature_extraction.text import TfidfVectorizer"
   ]
  },
  {
   "cell_type": "code",
   "execution_count": 2,
   "metadata": {},
   "outputs": [],
   "source": [
    "# URL-адреса новостных сайтов\n",
    "news_sites = [\n",
    "    \"https://ru.investing.com/news/latest-news\",\n",
    "    \"https://bcs-express.ru/category/vazhnoe\",\n",
    "    \"https://ru.tradingview.com/news/markets/\",\n",
    "    \"https://quote.ru/category/News\"\n",
    "]\n",
    "\n",
    "# Ключевые слова для фильтрации новостей\n",
    "keywords = [\"технологии\", \"наука\", \"политика\"]"
   ]
  },
  {
   "cell_type": "code",
   "execution_count": null,
   "metadata": {},
   "outputs": [],
   "source": [
    "# Функция для парсинга новостей\n",
    "def parse_news(url):\n",
    "    response = requests.get(url)\n",
    "    soup = BeautifulSoup(response.content, 'html.parser')\n",
    "    print(soup)\n",
    "    news_items = []\n",
    "\n",
    "    # Пример извлечения новостей (зависит от структуры сайта)\n",
    "    for item in soup.find_all('article'):\n",
    "        title = item.find('h2').text\n",
    "        content = item.find('p').text\n",
    "        date = item.find('time').text\n",
    "        news_items.append({'title': title, 'content': content, 'date': date})\n",
    "\n",
    "    return news_items\n",
    "\n",
    "\n",
    "parse_news(news_sites[0])"
   ]
  },
  {
   "cell_type": "code",
   "execution_count": 4,
   "metadata": {},
   "outputs": [],
   "source": [
    "# Функция для фильтрации новостей по ключевым словам\n",
    "def filter_news(news_items, keywords):\n",
    "    filtered_news = []\n",
    "    for item in news_items:\n",
    "        if any(keyword in item['content'] for keyword in keywords):\n",
    "            filtered_news.append(item)\n",
    "    return filtered_news"
   ]
  },
  {
   "cell_type": "code",
   "execution_count": 5,
   "metadata": {},
   "outputs": [],
   "source": [
    "# Функция для сохранения новостей в векторную БД\n",
    "def save_news_to_vector_db(news_items):\n",
    "    # Пример использования TF-IDF для преобразования текста в векторы\n",
    "    vectorizer = TfidfVectorizer()\n",
    "    texts = [item['content'] for item in news_items]\n",
    "    vectors = vectorizer.fit_transform(texts).toarray()\n",
    "\n",
    "    # Сохранение векторов в файл (вместо векторной БД для примера)\n",
    "    with open('news_vectors.pkl', 'wb') as f:\n",
    "        pickle.dump(vectors, f)"
   ]
  },
  {
   "cell_type": "code",
   "execution_count": 6,
   "metadata": {},
   "outputs": [
    {
     "ename": "NameError",
     "evalue": "name 'schedule' is not defined",
     "output_type": "error",
     "traceback": [
      "\u001b[1;31m---------------------------------------------------------------------------\u001b[0m",
      "\u001b[1;31mNameError\u001b[0m                                 Traceback (most recent call last)",
      "Cell \u001b[1;32mIn[6], line 19\u001b[0m\n\u001b[0;32m     16\u001b[0m     \u001b[38;5;28mprint\u001b[39m(\u001b[38;5;124mf\u001b[39m\u001b[38;5;124m\"\u001b[39m\u001b[38;5;124mОбновлено \u001b[39m\u001b[38;5;132;01m{\u001b[39;00m\u001b[38;5;28mlen\u001b[39m(filtered_news)\u001b[38;5;132;01m}\u001b[39;00m\u001b[38;5;124m новостей.\u001b[39m\u001b[38;5;124m\"\u001b[39m)\n\u001b[0;32m     18\u001b[0m \u001b[38;5;66;03m# Планирование задачи на выполнение каждый день в 23:59\u001b[39;00m\n\u001b[1;32m---> 19\u001b[0m schedule\u001b[38;5;241m.\u001b[39mevery()\u001b[38;5;241m.\u001b[39mday\u001b[38;5;241m.\u001b[39mat(\u001b[38;5;124m\"\u001b[39m\u001b[38;5;124m23:59\u001b[39m\u001b[38;5;124m\"\u001b[39m)\u001b[38;5;241m.\u001b[39mdo(run_pipeline)\n\u001b[0;32m     21\u001b[0m \u001b[38;5;66;03m# Бесконечный цикл для выполнения запланированных задач\u001b[39;00m\n\u001b[0;32m     22\u001b[0m \u001b[38;5;28;01mwhile\u001b[39;00m \u001b[38;5;28;01mTrue\u001b[39;00m:\n",
      "\u001b[1;31mNameError\u001b[0m: name 'schedule' is not defined"
     ]
    }
   ],
   "source": [
    "# Основная функция для выполнения пайплайна\n",
    "def run_pipeline():\n",
    "    all_news = []\n",
    "    for site in news_sites:\n",
    "        news_items = parse_news(site)\n",
    "        all_news.extend(news_items)\n",
    "\n",
    "    filtered_news = filter_news(all_news, keywords)\n",
    "    save_news_to_vector_db(filtered_news)\n",
    "\n",
    "    # Удаление старых новостей (старше 30 дней)\n",
    "    current_date = datetime.now()\n",
    "    thirty_days_ago = current_date - timedelta(days=30)\n",
    "    filtered_news = [item for item in filtered_news if datetime.strptime(item['date'], '%Y-%m-%d') > thirty_days_ago]\n",
    "\n",
    "    print(f\"Обновлено {len(filtered_news)} новостей.\")\n",
    "\n",
    "# Планирование задачи на выполнение каждый день в 23:59\n",
    "schedule.every().day.at(\"23:59\").do(run_pipeline)\n",
    "\n",
    "# Бесконечный цикл для выполнения запланированных задач\n",
    "while True:\n",
    "    schedule.run_pending()\n",
    "    time.sleep(1)\n"
   ]
  },
  {
   "cell_type": "code",
   "execution_count": null,
   "metadata": {},
   "outputs": [],
   "source": []
  }
 ],
 "metadata": {
  "kernelspec": {
   "display_name": "Python 3 (ipykernel)",
   "language": "python",
   "name": "python3"
  },
  "language_info": {
   "codemirror_mode": {
    "name": "ipython",
    "version": 3
   },
   "file_extension": ".py",
   "mimetype": "text/x-python",
   "name": "python",
   "nbconvert_exporter": "python",
   "pygments_lexer": "ipython3",
   "version": "3.12.7"
  }
 },
 "nbformat": 4,
 "nbformat_minor": 4
}
