{
 "cells": [
  {
   "cell_type": "markdown",
   "metadata": {},
   "source": [
    "# Импорты"
   ]
  },
  {
   "cell_type": "code",
   "execution_count": 44,
   "metadata": {},
   "outputs": [],
   "source": [
    "import json\n",
    "import numpy as np\n",
    "import pandas as pd\n",
    "import matplotlib.pyplot as plt"
   ]
  },
  {
   "cell_type": "markdown",
   "metadata": {},
   "source": [
    "# Датасет"
   ]
  },
  {
   "cell_type": "code",
   "execution_count": 50,
   "metadata": {},
   "outputs": [],
   "source": [
    "with open(\"./data/contextual_dataset.json\", \"r\", encoding=\"utf-8\") as f:\n",
    "    dataset = json.load(f)"
   ]
  },
  {
   "cell_type": "code",
   "execution_count": 51,
   "metadata": {},
   "outputs": [
    {
     "data": {
      "text/plain": [
       "(13152, 4)"
      ]
     },
     "execution_count": 51,
     "metadata": {},
     "output_type": "execute_result"
    }
   ],
   "source": [
    "df = pd.DataFrame(dataset)\n",
    "df.shape"
   ]
  },
  {
   "cell_type": "markdown",
   "metadata": {},
   "source": [
    "# Фильтрация"
   ]
  },
  {
   "cell_type": "markdown",
   "metadata": {},
   "source": [
    "### Фильтрация неуникальных примеров"
   ]
  },
  {
   "cell_type": "code",
   "execution_count": null,
   "metadata": {},
   "outputs": [
    {
     "data": {
      "text/html": [
       "<div>\n",
       "<style scoped>\n",
       "    .dataframe tbody tr th:only-of-type {\n",
       "        vertical-align: middle;\n",
       "    }\n",
       "\n",
       "    .dataframe tbody tr th {\n",
       "        vertical-align: top;\n",
       "    }\n",
       "\n",
       "    .dataframe thead th {\n",
       "        text-align: right;\n",
       "    }\n",
       "</style>\n",
       "<table border=\"1\" class=\"dataframe\">\n",
       "  <thead>\n",
       "    <tr style=\"text-align: right;\">\n",
       "      <th></th>\n",
       "      <th>description_chunk</th>\n",
       "      <th>topic</th>\n",
       "      <th>date</th>\n",
       "      <th>title</th>\n",
       "    </tr>\n",
       "  </thead>\n",
       "  <tbody>\n",
       "    <tr>\n",
       "      <th>0</th>\n",
       "      <td>Российские отели работающие по системе всё вкл...</td>\n",
       "      <td>другое</td>\n",
       "      <td>2024-10</td>\n",
       "      <td>None</td>\n",
       "    </tr>\n",
       "    <tr>\n",
       "      <th>1</th>\n",
       "      <td>Компания Самолет (SMLT) ожидает рекордных прод...</td>\n",
       "      <td>акции</td>\n",
       "      <td>2023-01</td>\n",
       "      <td>None</td>\n",
       "    </tr>\n",
       "    <tr>\n",
       "      <th>2</th>\n",
       "      <td>Цены на нефть останутся высокими в долгосрочно...</td>\n",
       "      <td>нефть</td>\n",
       "      <td>2024-12</td>\n",
       "      <td>None</td>\n",
       "    </tr>\n",
       "    <tr>\n",
       "      <th>3</th>\n",
       "      <td>Центральный банк установил регламент для прода...</td>\n",
       "      <td>другое</td>\n",
       "      <td>2022-08</td>\n",
       "      <td>None</td>\n",
       "    </tr>\n",
       "    <tr>\n",
       "      <th>4</th>\n",
       "      <td>Выпуск Газпром Капитала привлекателен для инве...</td>\n",
       "      <td>облигации</td>\n",
       "      <td>2021-03</td>\n",
       "      <td>None</td>\n",
       "    </tr>\n",
       "    <tr>\n",
       "      <th>...</th>\n",
       "      <td>...</td>\n",
       "      <td>...</td>\n",
       "      <td>...</td>\n",
       "      <td>...</td>\n",
       "    </tr>\n",
       "    <tr>\n",
       "      <th>13089</th>\n",
       "      <td>Курс евро вырос до 100,559 рубля на фоне укреп...</td>\n",
       "      <td>другое</td>\n",
       "      <td>2024-08</td>\n",
       "      <td>False</td>\n",
       "    </tr>\n",
       "    <tr>\n",
       "      <th>13090</th>\n",
       "      <td>Общие онлайн-продажи компании достигли 73% от ...</td>\n",
       "      <td>другое</td>\n",
       "      <td>2024-12</td>\n",
       "      <td>False</td>\n",
       "    </tr>\n",
       "    <tr>\n",
       "      <th>13091</th>\n",
       "      <td>В июле прибыль составила 327 млрд рублей, что ...</td>\n",
       "      <td>другое</td>\n",
       "      <td>2023-08</td>\n",
       "      <td>False</td>\n",
       "    </tr>\n",
       "    <tr>\n",
       "      <th>13092</th>\n",
       "      <td>Акции компании Татнефть выросли на 5,5% благод...</td>\n",
       "      <td>акции</td>\n",
       "      <td>2022-06</td>\n",
       "      <td>False</td>\n",
       "    </tr>\n",
       "    <tr>\n",
       "      <th>13093</th>\n",
       "      <td>Акции АЛРОСА упали на 0,91% до 66,34 руб. на п...</td>\n",
       "      <td>акции</td>\n",
       "      <td>2023-05</td>\n",
       "      <td>False</td>\n",
       "    </tr>\n",
       "  </tbody>\n",
       "</table>\n",
       "<p>13094 rows × 4 columns</p>\n",
       "</div>"
      ],
      "text/plain": [
       "                                       description_chunk      topic     date  \\\n",
       "0      Российские отели работающие по системе всё вкл...     другое  2024-10   \n",
       "1      Компания Самолет (SMLT) ожидает рекордных прод...      акции  2023-01   \n",
       "2      Цены на нефть останутся высокими в долгосрочно...      нефть  2024-12   \n",
       "3      Центральный банк установил регламент для прода...     другое  2022-08   \n",
       "4      Выпуск Газпром Капитала привлекателен для инве...  облигации  2021-03   \n",
       "...                                                  ...        ...      ...   \n",
       "13089  Курс евро вырос до 100,559 рубля на фоне укреп...     другое  2024-08   \n",
       "13090  Общие онлайн-продажи компании достигли 73% от ...     другое  2024-12   \n",
       "13091  В июле прибыль составила 327 млрд рублей, что ...     другое  2023-08   \n",
       "13092  Акции компании Татнефть выросли на 5,5% благод...      акции  2022-06   \n",
       "13093  Акции АЛРОСА упали на 0,91% до 66,34 руб. на п...      акции  2023-05   \n",
       "\n",
       "       title  \n",
       "0       None  \n",
       "1       None  \n",
       "2       None  \n",
       "3       None  \n",
       "4       None  \n",
       "...      ...  \n",
       "13089  False  \n",
       "13090  False  \n",
       "13091  False  \n",
       "13092  False  \n",
       "13093  False  \n",
       "\n",
       "[13094 rows x 4 columns]"
      ]
     },
     "execution_count": 52,
     "metadata": {},
     "output_type": "execute_result"
    }
   ],
   "source": [
    "unique_df = df.drop_duplicates(subset=[\"description_chunk\"], keep=False).reset_index(drop=True)\n",
    "unique_df"
   ]
  },
  {
   "cell_type": "markdown",
   "metadata": {},
   "source": [
    "### Фильтрация по длине (убираем все примеры строк меньше 100 символов)"
   ]
  },
  {
   "cell_type": "code",
   "execution_count": 53,
   "metadata": {},
   "outputs": [
    {
     "data": {
      "image/png": "[encoded data removed]",
      "text/plain": [
       "<Figure size 640x480 with 1 Axes>"
      ]
     },
     "metadata": {},
     "output_type": "display_data"
    }
   ],
   "source": [
    "# обоснование зачем чистить по длине\n",
    "plt.bar(range(1, len(unique_df[\"description_chunk\"]) + 1), list(map(len, unique_df[\"description_chunk\"])));"
   ]
  },
  {
   "cell_type": "code",
   "execution_count": 55,
   "metadata": {},
   "outputs": [
    {
     "data": {
      "text/html": [
       "<div>\n",
       "<style scoped>\n",
       "    .dataframe tbody tr th:only-of-type {\n",
       "        vertical-align: middle;\n",
       "    }\n",
       "\n",
       "    .dataframe tbody tr th {\n",
       "        vertical-align: top;\n",
       "    }\n",
       "\n",
       "    .dataframe thead th {\n",
       "        text-align: right;\n",
       "    }\n",
       "</style>\n",
       "<table border=\"1\" class=\"dataframe\">\n",
       "  <thead>\n",
       "    <tr style=\"text-align: right;\">\n",
       "      <th></th>\n",
       "      <th>description_chunk</th>\n",
       "      <th>topic</th>\n",
       "      <th>date</th>\n",
       "      <th>title</th>\n",
       "    </tr>\n",
       "  </thead>\n",
       "  <tbody>\n",
       "    <tr>\n",
       "      <th>0</th>\n",
       "      <td>Российские отели работающие по системе всё вкл...</td>\n",
       "      <td>другое</td>\n",
       "      <td>2024-10</td>\n",
       "      <td>None</td>\n",
       "    </tr>\n",
       "    <tr>\n",
       "      <th>1</th>\n",
       "      <td>Компания Самолет (SMLT) ожидает рекордных прод...</td>\n",
       "      <td>акции</td>\n",
       "      <td>2023-01</td>\n",
       "      <td>None</td>\n",
       "    </tr>\n",
       "    <tr>\n",
       "      <th>2</th>\n",
       "      <td>Цены на нефть останутся высокими в долгосрочно...</td>\n",
       "      <td>нефть</td>\n",
       "      <td>2024-12</td>\n",
       "      <td>None</td>\n",
       "    </tr>\n",
       "    <tr>\n",
       "      <th>3</th>\n",
       "      <td>Центральный банк установил регламент для прода...</td>\n",
       "      <td>другое</td>\n",
       "      <td>2022-08</td>\n",
       "      <td>None</td>\n",
       "    </tr>\n",
       "    <tr>\n",
       "      <th>4</th>\n",
       "      <td>Выпуск Газпром Капитала привлекателен для инве...</td>\n",
       "      <td>облигации</td>\n",
       "      <td>2021-03</td>\n",
       "      <td>None</td>\n",
       "    </tr>\n",
       "    <tr>\n",
       "      <th>...</th>\n",
       "      <td>...</td>\n",
       "      <td>...</td>\n",
       "      <td>...</td>\n",
       "      <td>...</td>\n",
       "    </tr>\n",
       "    <tr>\n",
       "      <th>13089</th>\n",
       "      <td>Курс евро вырос до 100,559 рубля на фоне укреп...</td>\n",
       "      <td>другое</td>\n",
       "      <td>2024-08</td>\n",
       "      <td>False</td>\n",
       "    </tr>\n",
       "    <tr>\n",
       "      <th>13090</th>\n",
       "      <td>Общие онлайн-продажи компании достигли 73% от ...</td>\n",
       "      <td>другое</td>\n",
       "      <td>2024-12</td>\n",
       "      <td>False</td>\n",
       "    </tr>\n",
       "    <tr>\n",
       "      <th>13091</th>\n",
       "      <td>В июле прибыль составила 327 млрд рублей, что ...</td>\n",
       "      <td>другое</td>\n",
       "      <td>2023-08</td>\n",
       "      <td>False</td>\n",
       "    </tr>\n",
       "    <tr>\n",
       "      <th>13092</th>\n",
       "      <td>Акции компании Татнефть выросли на 5,5% благод...</td>\n",
       "      <td>акции</td>\n",
       "      <td>2022-06</td>\n",
       "      <td>False</td>\n",
       "    </tr>\n",
       "    <tr>\n",
       "      <th>13093</th>\n",
       "      <td>Акции АЛРОСА упали на 0,91% до 66,34 руб. на п...</td>\n",
       "      <td>акции</td>\n",
       "      <td>2023-05</td>\n",
       "      <td>False</td>\n",
       "    </tr>\n",
       "  </tbody>\n",
       "</table>\n",
       "<p>12771 rows × 4 columns</p>\n",
       "</div>"
      ],
      "text/plain": [
       "                                       description_chunk      topic     date  \\\n",
       "0      Российские отели работающие по системе всё вкл...     другое  2024-10   \n",
       "1      Компания Самолет (SMLT) ожидает рекордных прод...      акции  2023-01   \n",
       "2      Цены на нефть останутся высокими в долгосрочно...      нефть  2024-12   \n",
       "3      Центральный банк установил регламент для прода...     другое  2022-08   \n",
       "4      Выпуск Газпром Капитала привлекателен для инве...  облигации  2021-03   \n",
       "...                                                  ...        ...      ...   \n",
       "13089  Курс евро вырос до 100,559 рубля на фоне укреп...     другое  2024-08   \n",
       "13090  Общие онлайн-продажи компании достигли 73% от ...     другое  2024-12   \n",
       "13091  В июле прибыль составила 327 млрд рублей, что ...     другое  2023-08   \n",
       "13092  Акции компании Татнефть выросли на 5,5% благод...      акции  2022-06   \n",
       "13093  Акции АЛРОСА упали на 0,91% до 66,34 руб. на п...      акции  2023-05   \n",
       "\n",
       "       title  \n",
       "0       None  \n",
       "1       None  \n",
       "2       None  \n",
       "3       None  \n",
       "4       None  \n",
       "...      ...  \n",
       "13089  False  \n",
       "13090  False  \n",
       "13091  False  \n",
       "13092  False  \n",
       "13093  False  \n",
       "\n",
       "[12771 rows x 4 columns]"
      ]
     },
     "execution_count": 55,
     "metadata": {},
     "output_type": "execute_result"
    }
   ],
   "source": [
    "filtered_df = unique_df[unique_df['description_chunk'].apply(lambda x: len(x) >= 100)]\n",
    "filtered_df"
   ]
  },
  {
   "cell_type": "code",
   "execution_count": 62,
   "metadata": {},
   "outputs": [],
   "source": [
    "filtered_dataset = []\n",
    "for row in filtered_df.iterrows():\n",
    "    filtered_dataset.append(dict(row[1]))"
   ]
  },
  {
   "cell_type": "markdown",
   "metadata": {},
   "source": [
    "# Сохранение датасета"
   ]
  },
  {
   "cell_type": "code",
   "execution_count": 63,
   "metadata": {},
   "outputs": [],
   "source": [
    "with open(\"./data/contextual_dataset_v2.json\", \"w\", encoding=\"utf-8\") as f:\n",
    "    json.dump(filtered_dataset, f, ensure_ascii=False)"
   ]
  },
  {
   "cell_type": "code",
   "execution_count": null,
   "metadata": {},
   "outputs": [],
   "source": []
  }
 ],
 "metadata": {
  "kernelspec": {
   "display_name": ".venv",
   "language": "python",
   "name": "python3"
  },
  "language_info": {
   "codemirror_mode": {
    "name": "ipython",
    "version": 3
   },
   "file_extension": ".py",
   "mimetype": "text/x-python",
   "name": "python",
   "nbconvert_exporter": "python",
   "pygments_lexer": "ipython3",
   "version": "3.12.2"
  }
 },
 "nbformat": 4,
 "nbformat_minor": 2
}
