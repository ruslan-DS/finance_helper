{
 "cells": [
  {
   "cell_type": "markdown",
   "metadata": {},
   "source": [
    "# Импорты"
   ]
  },
  {
   "cell_type": "code",
   "execution_count": 39,
   "metadata": {},
   "outputs": [],
   "source": [
    "import warnings\n",
    "warnings.filterwarnings(\"ignore\")\n",
    "\n",
    "import pandas as pd\n",
    "from datasets import load_dataset"
   ]
  },
  {
   "cell_type": "markdown",
   "metadata": {},
   "source": [
    "# Чтение датасетов"
   ]
  },
  {
   "cell_type": "code",
   "execution_count": 46,
   "metadata": {},
   "outputs": [
    {
     "name": "stderr",
     "output_type": "stream",
     "text": [
      "Using the latest cached version of the dataset since Kasymkhan/RussianFinancialNews couldn't be found on the Hugging Face Hub\n",
      "Found the latest cached dataset configuration 'default' at /Users/ruslan/.cache/huggingface/datasets/Kasymkhan___russian_financial_news/default/0.0.0/f83da5c05c82c9086806cf90ded4155052f9605c (last modified on Sat Jan 25 13:02:34 2025).\n"
     ]
    },
    {
     "data": {
      "text/plain": [
       "DatasetDict({\n",
       "    train: Dataset({\n",
       "        features: ['title', 'body', 'date', 'time', 'tags', 'source', '__index_level_0__'],\n",
       "        num_rows: 73564\n",
       "    })\n",
       "    test: Dataset({\n",
       "        features: ['title', 'body', 'date', 'time', 'tags', 'source', '__index_level_0__'],\n",
       "        num_rows: 18391\n",
       "    })\n",
       "})"
      ]
     },
     "execution_count": 46,
     "metadata": {},
     "output_type": "execute_result"
    }
   ],
   "source": [
    "df_1 = load_dataset(\"Kasymkhan/RussianFinancialNews\")\n",
    "\n",
    "df_1"
   ]
  },
  {
   "cell_type": "code",
   "execution_count": 47,
   "metadata": {},
   "outputs": [
    {
     "data": {
      "text/html": [
       "<div>\n",
       "<style scoped>\n",
       "    .dataframe tbody tr th:only-of-type {\n",
       "        vertical-align: middle;\n",
       "    }\n",
       "\n",
       "    .dataframe tbody tr th {\n",
       "        vertical-align: top;\n",
       "    }\n",
       "\n",
       "    .dataframe thead th {\n",
       "        text-align: right;\n",
       "    }\n",
       "</style>\n",
       "<table border=\"1\" class=\"dataframe\">\n",
       "  <thead>\n",
       "    <tr style=\"text-align: right;\">\n",
       "      <th></th>\n",
       "      <th>title</th>\n",
       "      <th>summary</th>\n",
       "      <th>published</th>\n",
       "      <th>tickers</th>\n",
       "    </tr>\n",
       "  </thead>\n",
       "  <tbody>\n",
       "    <tr>\n",
       "      <th>0</th>\n",
       "      <td>Электромобильный стартап Arrival экс-главы Yot...</td>\n",
       "      <td>Британский электромобильный стартап Arrival, к...</td>\n",
       "      <td>Thu, 12 May 2022 05:10:01 +0300</td>\n",
       "      <td>['ARVL']</td>\n",
       "    </tr>\n",
       "    <tr>\n",
       "      <th>1</th>\n",
       "      <td>Экс-глава НМТП рассказал о «напряженных отноше...</td>\n",
       "      <td>Экс-председатель совета директоров Новороссийс...</td>\n",
       "      <td>Fri, 20 May 2022 19:13:18 +0300</td>\n",
       "      <td>['NMTP']</td>\n",
       "    </tr>\n",
       "    <tr>\n",
       "      <th>2</th>\n",
       "      <td>Шрёдер отклонил предложение войти в совет дире...</td>\n",
       "      <td>Его кандидатуру выдвинули в начале февраля. Ка...</td>\n",
       "      <td>Tue, 24 May 2022 22:12:05 +0300</td>\n",
       "      <td>['GAZP']</td>\n",
       "    </tr>\n",
       "    <tr>\n",
       "      <th>3</th>\n",
       "      <td>Шельф берут в разработку // Генподрядчиком «Га...</td>\n",
       "      <td>Как стало известно “Ъ”, «Аврора» Андрея Патруш...</td>\n",
       "      <td>Fri, 29 Jul 2022 00:28:00 +0300</td>\n",
       "      <td>['GAZP']</td>\n",
       "    </tr>\n",
       "    <tr>\n",
       "      <th>4</th>\n",
       "      <td>Чистый убыток \"Юнипро\" в 1 полугодии 2022 года...</td>\n",
       "      <td>Чистый убыток \"Юнипро\" в 1 полугодии 2022 года...</td>\n",
       "      <td>Thu, 28 Jul 2022 12:43:00 +0300</td>\n",
       "      <td>['UPRO']</td>\n",
       "    </tr>\n",
       "  </tbody>\n",
       "</table>\n",
       "</div>"
      ],
      "text/plain": [
       "                                               title  ...   tickers\n",
       "0  Электромобильный стартап Arrival экс-главы Yot...  ...  ['ARVL']\n",
       "1  Экс-глава НМТП рассказал о «напряженных отноше...  ...  ['NMTP']\n",
       "2  Шрёдер отклонил предложение войти в совет дире...  ...  ['GAZP']\n",
       "3  Шельф берут в разработку // Генподрядчиком «Га...  ...  ['GAZP']\n",
       "4  Чистый убыток \"Юнипро\" в 1 полугодии 2022 года...  ...  ['UPRO']\n",
       "\n",
       "[5 rows x 4 columns]"
      ]
     },
     "execution_count": 47,
     "metadata": {},
     "output_type": "execute_result"
    }
   ],
   "source": [
    "df_2 = pd.read_csv(\"./data/data.tsv\", sep=\"\\t\", usecols=[\"title\", \"summary\", \"published\", \"tickers\"])\n",
    "\n",
    "df_2.head()"
   ]
  },
  {
   "cell_type": "markdown",
   "metadata": {},
   "source": [
    "# Предобработка датасетов"
   ]
  },
  {
   "cell_type": "markdown",
   "metadata": {},
   "source": [
    "### Датасет из HF"
   ]
  },
  {
   "cell_type": "code",
   "execution_count": 48,
   "metadata": {},
   "outputs": [
    {
     "data": {
      "text/html": [
       "<div>\n",
       "<style scoped>\n",
       "    .dataframe tbody tr th:only-of-type {\n",
       "        vertical-align: middle;\n",
       "    }\n",
       "\n",
       "    .dataframe tbody tr th {\n",
       "        vertical-align: top;\n",
       "    }\n",
       "\n",
       "    .dataframe thead th {\n",
       "        text-align: right;\n",
       "    }\n",
       "</style>\n",
       "<table border=\"1\" class=\"dataframe\">\n",
       "  <thead>\n",
       "    <tr style=\"text-align: right;\">\n",
       "      <th></th>\n",
       "      <th>body</th>\n",
       "      <th>date</th>\n",
       "      <th>tags</th>\n",
       "    </tr>\n",
       "  </thead>\n",
       "  <tbody>\n",
       "    <tr>\n",
       "      <th>0</th>\n",
       "      <td>Российские отели «всё включено» обяжут предлаг...</td>\n",
       "      <td>2023-03-10</td>\n",
       "      <td>no tags</td>\n",
       "    </tr>\n",
       "    <tr>\n",
       "      <th>1</th>\n",
       "      <td>\" Самолет (SMLT) в 4кв2023 собирается побить р...</td>\n",
       "      <td>2023-10-26</td>\n",
       "      <td>['аналитика', 'факты']</td>\n",
       "    </tr>\n",
       "    <tr>\n",
       "      <th>2</th>\n",
       "      <td>\"Высокие цены на нефть, похоже, надолго. Мир в...</td>\n",
       "      <td>2022-08-29</td>\n",
       "      <td>['ROSN', 'LKOH']</td>\n",
       "    </tr>\n",
       "    <tr>\n",
       "      <th>3</th>\n",
       "      <td>ЦБ определил порядок продажи заблокированных и...</td>\n",
       "      <td>2023-12-11</td>\n",
       "      <td>no tags</td>\n",
       "    </tr>\n",
       "    <tr>\n",
       "      <th>4</th>\n",
       "      <td>Чем привлекателен выпуск Газпром Капитала</td>\n",
       "      <td>2024-01-12 00:00:00</td>\n",
       "      <td>['Газпром капитал ЗО28-1-Е RU000A105BY1']</td>\n",
       "    </tr>\n",
       "  </tbody>\n",
       "</table>\n",
       "</div>"
      ],
      "text/plain": [
       "                                                body  ...                                       tags\n",
       "0  Российские отели «всё включено» обяжут предлаг...  ...                                    no tags\n",
       "1  \" Самолет (SMLT) в 4кв2023 собирается побить р...  ...                     ['аналитика', 'факты']\n",
       "2  \"Высокие цены на нефть, похоже, надолго. Мир в...  ...                           ['ROSN', 'LKOH']\n",
       "3  ЦБ определил порядок продажи заблокированных и...  ...                                    no tags\n",
       "4          Чем привлекателен выпуск Газпром Капитала  ...  ['Газпром капитал ЗО28-1-Е RU000A105BY1']\n",
       "\n",
       "[5 rows x 3 columns]"
      ]
     },
     "execution_count": 48,
     "metadata": {},
     "output_type": "execute_result"
    }
   ],
   "source": [
    "df_1 = pd.concat([df_1[\"train\"].to_pandas(), df_1[\"test\"].to_pandas()], axis=0)\n",
    "df_1 = df_1[[\"body\", \"date\", \"tags\"]]\n",
    "\n",
    "df_1.head()"
   ]
  },
  {
   "cell_type": "code",
   "execution_count": 51,
   "metadata": {},
   "outputs": [],
   "source": [
    "df_1[\"date\"] = pd.to_datetime(df_1[\"date\"], format=\"mixed\")"
   ]
  },
  {
   "cell_type": "code",
   "execution_count": null,
   "metadata": {},
   "outputs": [],
   "source": [
    "df_1[\"tags\"] = df_1[\"tags\"].map(lambda x: None if x == \"no tags\" else x)\n",
    "\n",
    "df_1.isna().sum()"
   ]
  },
  {
   "cell_type": "markdown",
   "metadata": {},
   "source": [
    "### Датасет из GitHub"
   ]
  },
  {
   "cell_type": "code",
   "execution_count": 19,
   "metadata": {},
   "outputs": [
    {
     "name": "stderr",
     "output_type": "stream",
     "text": [
      "/var/folders/7h/x164jwhx1ld31rc774tg1n0m0000gn/T/ipykernel_1955/782301921.py:1: FutureWarning: In a future version of pandas, parsing datetimes with mixed time zones will raise an error unless `utc=True`. Please specify `utc=True` to opt in to the new behaviour and silence this warning. To create a `Series` with mixed offsets and `object` dtype, please use `apply` and `datetime.datetime.strptime`\n",
      "  df_2[\"published\"] = pd.to_datetime(df_2[\"published\"], format=\"mixed\")\n"
     ]
    }
   ],
   "source": [
    "df_2[\"published\"] = pd.to_datetime(df_2[\"published\"], format=\"mixed\")"
   ]
  },
  {
   "cell_type": "code",
   "execution_count": 59,
   "metadata": {},
   "outputs": [
    {
     "data": {
      "text/plain": [
       "title         0\n",
       "summary      12\n",
       "published     0\n",
       "tickers       0\n",
       "dtype: int64"
      ]
     },
     "execution_count": 59,
     "metadata": {},
     "output_type": "execute_result"
    }
   ],
   "source": [
    "df_2.isna().sum()"
   ]
  },
  {
   "cell_type": "code",
   "execution_count": 64,
   "metadata": {},
   "outputs": [],
   "source": [
    "df_2 = df_2.loc[df_2['summary'].notna(), ['title', 'published', 'summary', 'tickers']]"
   ]
  },
  {
   "cell_type": "markdown",
   "metadata": {},
   "source": [
    "# Объединение датасетов"
   ]
  },
  {
   "cell_type": "code",
   "execution_count": 77,
   "metadata": {},
   "outputs": [],
   "source": [
    "### переименовываем столбцы в df_1\n",
    "\n",
    "df_1 = df_1.rename(columns={\n",
    "    \"body\": \"news\",\n",
    "    \"date\": \"date\",\n",
    "    \"tags\": \"tags\"\n",
    "})"
   ]
  },
  {
   "cell_type": "code",
   "execution_count": 78,
   "metadata": {},
   "outputs": [],
   "source": [
    "df_2 = df_2.rename(columns={\n",
    "    \"title\": \"title\",\n",
    "    \"published\": \"date\",\n",
    "    \"summary\": \"news\",\n",
    "    \"tickers\": \"tags\"\n",
    "})"
   ]
  },
  {
   "cell_type": "code",
   "execution_count": 83,
   "metadata": {},
   "outputs": [],
   "source": [
    "pd.concat([df_1, df_2], axis=0).to_csv('./data/merged_news_dataset.csv', index=False)"
   ]
  }
 ],
 "metadata": {
  "kernelspec": {
   "display_name": ".venv",
   "language": "python",
   "name": "python3"
  },
  "language_info": {
   "codemirror_mode": {
    "name": "ipython",
    "version": 3
   },
   "file_extension": ".py",
   "mimetype": "text/x-python",
   "name": "python",
   "nbconvert_exporter": "python",
   "pygments_lexer": "ipython3",
   "version": "3.12.8"
  }
 },
 "nbformat": 4,
 "nbformat_minor": 2
}
