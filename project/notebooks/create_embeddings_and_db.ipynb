{
 "cells": [
  {
   "cell_type": "markdown",
   "metadata": {},
   "source": [
    "# Импорты"
   ]
  },
  {
   "cell_type": "code",
   "execution_count": 1,
   "metadata": {},
   "outputs": [
    {
     "data": {
      "text/plain": [
       "True"
      ]
     },
     "execution_count": 1,
     "metadata": {},
     "output_type": "execute_result"
    }
   ],
   "source": [
    "import warnings\n",
    "warnings.filterwarnings(\"ignore\")\n",
    "\n",
    "import os\n",
    "import json\n",
    "import chromadb\n",
    "from typing import List\n",
    "from uuid import uuid4\n",
    "from chromadb.config import Settings\n",
    "from langchain_gigachat.embeddings import GigaChatEmbeddings\n",
    "\n",
    "import dotenv\n",
    "dotenv.load_dotenv(os.path.abspath(os.path.join('..', './.env')))"
   ]
  },
  {
   "cell_type": "markdown",
   "metadata": {},
   "source": [
    "# GigaChatEmbeddings"
   ]
  },
  {
   "cell_type": "code",
   "execution_count": 2,
   "metadata": {},
   "outputs": [],
   "source": [
    "GIGACHAT_API_KEY = os.environ[\"GIGACHAT_API_KEY\"]\n",
    "\n",
    "embedding_client = GigaChatEmbeddings(credentials=GIGACHAT_API_KEY, verify_ssl_certs=False)"
   ]
  },
  {
   "cell_type": "markdown",
   "metadata": {},
   "source": [
    "# Датасет"
   ]
  },
  {
   "cell_type": "code",
   "execution_count": 3,
   "metadata": {},
   "outputs": [],
   "source": [
    "with open(\"./data/contextual_dataset_v2.json\", \"r\", encoding=\"utf-8\") as f:\n",
    "    dataset = json.load(f)"
   ]
  },
  {
   "cell_type": "code",
   "execution_count": 4,
   "metadata": {},
   "outputs": [
    {
     "name": "stdout",
     "output_type": "stream",
     "text": [
      "12771\n"
     ]
    }
   ],
   "source": [
    "texts = []\n",
    "\n",
    "for sample in dataset:\n",
    "    texts.append(sample[\"description_chunk\"])\n",
    "\n",
    "print(len(texts))"
   ]
  },
  {
   "cell_type": "markdown",
   "metadata": {},
   "source": [
    "# Векторизация сэмплов"
   ]
  },
  {
   "cell_type": "code",
   "execution_count": 5,
   "metadata": {},
   "outputs": [],
   "source": [
    "def get_embeddings(texts: List[str]) -> List[list]:\n",
    "    \"\"\"\n",
    "    Получение эмбеддингов входных текстов.\n",
    "    \"\"\"\n",
    "    embeddings = embedding_client.embed_documents(texts=texts)\n",
    "    \n",
    "    return embeddings"
   ]
  },
  {
   "cell_type": "code",
   "execution_count": 6,
   "metadata": {},
   "outputs": [],
   "source": [
    "embeddings = get_embeddings(texts=texts)"
   ]
  },
  {
   "cell_type": "markdown",
   "metadata": {},
   "source": [
    "# Создание ChromaDB + загрузка и сохранение данных"
   ]
  },
  {
   "cell_type": "code",
   "execution_count": 7,
   "metadata": {},
   "outputs": [],
   "source": [
    "client = chromadb.PersistentClient(path='../src/chroma')"
   ]
  },
  {
   "cell_type": "code",
   "execution_count": 8,
   "metadata": {},
   "outputs": [],
   "source": [
    "collection = client.get_or_create_collection(name=\"news_embeddings\")"
   ]
  },
  {
   "cell_type": "code",
   "execution_count": 9,
   "metadata": {},
   "outputs": [],
   "source": [
    "for sample, embedding in zip(dataset, embeddings):\n",
    "\n",
    "    collection.add(\n",
    "        documents=[sample[\"description_chunk\"]],\n",
    "        embeddings=[embedding],\n",
    "        metadatas=[{\"date\": sample[\"date\"], \"topic\": sample[\"topic\"]}],\n",
    "        ids=str(uuid4())\n",
    "    )"
   ]
  },
  {
   "cell_type": "markdown",
   "metadata": {},
   "source": [
    "# Тестирование работоспособности базы данных"
   ]
  },
  {
   "cell_type": "code",
   "execution_count": 10,
   "metadata": {},
   "outputs": [],
   "source": [
    "import chromadb\n",
    "\n",
    "CHROMA_DATA_PATH = \"../src/chroma\"\n",
    "COLLECTION_NAME = \"news_embeddings\"\n",
    "client = chromadb.PersistentClient(CHROMA_DATA_PATH)\n",
    "collection = client.get_collection(COLLECTION_NAME)"
   ]
  },
  {
   "cell_type": "code",
   "execution_count": 11,
   "metadata": {},
   "outputs": [],
   "source": [
    "text = \"Почему нефть подорожала?\"\n",
    "embedding = get_embeddings([text])"
   ]
  },
  {
   "cell_type": "code",
   "execution_count": 12,
   "metadata": {},
   "outputs": [],
   "source": [
    "queries = collection.query(\n",
    "    query_embeddings=embedding,\n",
    "    n_results=10\n",
    ")"
   ]
  },
  {
   "cell_type": "code",
   "execution_count": 13,
   "metadata": {},
   "outputs": [
    {
     "data": {
      "text/plain": [
       "[['Цены на нефть начали расти после вчерашнего снижения, что может быть связано с коррекцией рынка, изменениями в геополитической обстановке или ожиданиями сокращения поставок. Рост цен также может быть обусловлен восстановлением спроса на энергоносители.',\n",
       "  'Цены на нефть демонстрируют рост в связи с увеличением спроса на энергоносители, а также из-за ограничений на добычу и поставки, введенных крупными производителями, такими как ОПЕК+. Это способствует укреплению цен на мировых рынках.',\n",
       "  'Цены на нефть выросли на 4,5% менее чем за сутки из-за усиления геополитических рисков, включая напряженность на Ближнем Востоке и потенциальные угрозы перебоям в поставках. Это вызвало рост спроса на нефть как защитный актив.',\n",
       "  'Цены на нефть демонстрируют рост, что может быть связано с рядом факторов, включая изменения в геополитической обстановке, колебания спроса на энергоносители, а также решения крупных производителей, таких как ОПЕК+, по регулированию объемов добычи.',\n",
       "  'Цены на нефть продолжают расти, приближаясь к отметке $90 за баррель. Это связано с сокращением предложения на рынке из-за ограничений добычи со стороны ОПЕК+ и усилением спроса на энергоносители в условиях восстановления мировой экономики. Также на рост цен влияют геополитические риски и напряженность в ключевых регионах-производителях.',\n",
       "  'Цены на нефть выросли более чем на 3% из-за усиления геополитической напряженности на Ближнем Востоке, что вызывает опасения по поводу возможного сокращения поставок. Дополнительно рост цен поддерживается ожиданиями увеличения спроса на энергоносители в связи с восстановлением мировой экономики.',\n",
       "  'Цены на нефть растут на фоне ожиданий сокращения добычи со стороны ОПЕК+. Цена на нефть марки Brent достигла $91 за баррель, что связано с возможным снижением предложения на рынке и усилением спроса на энергоносители.',\n",
       "  'Цены на нефть превысили отметку $75 за баррель, что связано с ростом спроса на энергоносители, сокращением поставок от ключевых производителей, таких как ОПЕК+, и геополитической напряженностью в регионах-экспортерах нефти.',\n",
       "  'Цены на нефть достигли максимумов за последние три недели, приближаясь к уровню 88 долларов за баррель. Этот рост может быть связан с усилением спроса на энергоносители, ограничением предложения со стороны ОПЕК+ и геополитической напряженностью, влияющей на рынок.',\n",
       "  'С начала недели наблюдается рост цен на металлы и энергоресурсы, которые продолжают обновлять исторические максимумы. В частности, цена на нефть впервые за последние 14 лет достигла отметки $138 за баррель. Это связано с геополитической напряженностью, сокращением поставок и повышенным спросом на энергоносители.']]"
      ]
     },
     "execution_count": 13,
     "metadata": {},
     "output_type": "execute_result"
    }
   ],
   "source": [
    "queries['documents']"
   ]
  }
 ],
 "metadata": {
  "kernelspec": {
   "display_name": ".venv",
   "language": "python",
   "name": "python3"
  },
  "language_info": {
   "codemirror_mode": {
    "name": "ipython",
    "version": 3
   },
   "file_extension": ".py",
   "mimetype": "text/x-python",
   "name": "python",
   "nbconvert_exporter": "python",
   "pygments_lexer": "ipython3",
   "version": "3.12.2"
  }
 },
 "nbformat": 4,
 "nbformat_minor": 2
}
