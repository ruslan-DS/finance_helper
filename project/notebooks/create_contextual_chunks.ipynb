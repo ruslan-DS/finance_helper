{
 "cells": [
  {
   "cell_type": "markdown",
   "metadata": {},
   "source": [
    "# Импорты"
   ]
  },
  {
   "cell_type": "code",
   "execution_count": 17,
   "metadata": {},
   "outputs": [
    {
     "data": {
      "text/plain": [
       "True"
      ]
     },
     "execution_count": 17,
     "metadata": {},
     "output_type": "execute_result"
    }
   ],
   "source": [
    "import os\n",
    "import random\n",
    "import sys\n",
    "import json\n",
    "import pandas as pd\n",
    "import chromadb\n",
    "from chromadb.config import Settings\n",
    "from concurrent.futures import ThreadPoolExecutor\n",
    "\n",
    "sys.path.append('..')\n",
    "from dotenv import load_dotenv\n",
    "from openai import OpenAI\n",
    "\n",
    "load_dotenv(os.path.abspath(os.path.join('..', '.env')))"
   ]
  },
  {
   "cell_type": "markdown",
   "metadata": {},
   "source": [
    "# DeepSeek"
   ]
  },
  {
   "cell_type": "code",
   "execution_count": 3,
   "metadata": {},
   "outputs": [],
   "source": [
    "API_KEY = os.environ[\"DEEPSEEK_API_KEY\"]\n",
    "BASE_URL = \"https://api.deepseek.com\"\n",
    "\n",
    "deep_seek_client = OpenAI(\n",
    "    api_key=API_KEY,\n",
    "    base_url=BASE_URL\n",
    ")"
   ]
  },
  {
   "cell_type": "markdown",
   "metadata": {},
   "source": [
    "# Чтение датасета"
   ]
  },
  {
   "cell_type": "code",
   "execution_count": 4,
   "metadata": {},
   "outputs": [
    {
     "data": {
      "text/html": [
       "<div>\n",
       "<style scoped>\n",
       "    .dataframe tbody tr th:only-of-type {\n",
       "        vertical-align: middle;\n",
       "    }\n",
       "\n",
       "    .dataframe tbody tr th {\n",
       "        vertical-align: top;\n",
       "    }\n",
       "\n",
       "    .dataframe thead th {\n",
       "        text-align: right;\n",
       "    }\n",
       "</style>\n",
       "<table border=\"1\" class=\"dataframe\">\n",
       "  <thead>\n",
       "    <tr style=\"text-align: right;\">\n",
       "      <th></th>\n",
       "      <th>news</th>\n",
       "      <th>date</th>\n",
       "      <th>tags</th>\n",
       "      <th>title</th>\n",
       "    </tr>\n",
       "  </thead>\n",
       "  <tbody>\n",
       "    <tr>\n",
       "      <th>0</th>\n",
       "      <td>Российские отели «всё включено» обяжут предлаг...</td>\n",
       "      <td>2023-03-10 00:00:00</td>\n",
       "      <td>NaN</td>\n",
       "      <td>NaN</td>\n",
       "    </tr>\n",
       "    <tr>\n",
       "      <th>1</th>\n",
       "      <td>\" Самолет (SMLT) в 4кв2023 собирается побить р...</td>\n",
       "      <td>2023-10-26 00:00:00</td>\n",
       "      <td>['аналитика', 'факты']</td>\n",
       "      <td>NaN</td>\n",
       "    </tr>\n",
       "    <tr>\n",
       "      <th>2</th>\n",
       "      <td>\"Высокие цены на нефть, похоже, надолго. Мир в...</td>\n",
       "      <td>2022-08-29 00:00:00</td>\n",
       "      <td>['ROSN', 'LKOH']</td>\n",
       "      <td>NaN</td>\n",
       "    </tr>\n",
       "    <tr>\n",
       "      <th>3</th>\n",
       "      <td>ЦБ определил порядок продажи заблокированных и...</td>\n",
       "      <td>2023-12-11 00:00:00</td>\n",
       "      <td>NaN</td>\n",
       "      <td>NaN</td>\n",
       "    </tr>\n",
       "    <tr>\n",
       "      <th>4</th>\n",
       "      <td>Чем привлекателен выпуск Газпром Капитала</td>\n",
       "      <td>2024-01-12 00:00:00</td>\n",
       "      <td>['Газпром капитал ЗО28-1-Е RU000A105BY1']</td>\n",
       "      <td>NaN</td>\n",
       "    </tr>\n",
       "  </tbody>\n",
       "</table>\n",
       "</div>"
      ],
      "text/plain": [
       "                                                news                 date  \\\n",
       "0  Российские отели «всё включено» обяжут предлаг...  2023-03-10 00:00:00   \n",
       "1  \" Самолет (SMLT) в 4кв2023 собирается побить р...  2023-10-26 00:00:00   \n",
       "2  \"Высокие цены на нефть, похоже, надолго. Мир в...  2022-08-29 00:00:00   \n",
       "3  ЦБ определил порядок продажи заблокированных и...  2023-12-11 00:00:00   \n",
       "4          Чем привлекателен выпуск Газпром Капитала  2024-01-12 00:00:00   \n",
       "\n",
       "                                        tags title  \n",
       "0                                        NaN   NaN  \n",
       "1                     ['аналитика', 'факты']   NaN  \n",
       "2                           ['ROSN', 'LKOH']   NaN  \n",
       "3                                        NaN   NaN  \n",
       "4  ['Газпром капитал ЗО28-1-Е RU000A105BY1']   NaN  "
      ]
     },
     "execution_count": 4,
     "metadata": {},
     "output_type": "execute_result"
    }
   ],
   "source": [
    "df = pd.read_csv('./data/merged_news_dataset.csv')\n",
    "df.head()"
   ]
  },
  {
   "cell_type": "code",
   "execution_count": 5,
   "metadata": {},
   "outputs": [],
   "source": [
    "df_new = df.copy()"
   ]
  },
  {
   "cell_type": "markdown",
   "metadata": {},
   "source": [
    "# Contextual Retrieval Preprocessing"
   ]
  },
  {
   "cell_type": "code",
   "execution_count": 6,
   "metadata": {},
   "outputs": [],
   "source": [
    "SYSTEM_CONTEXTUAL_RETRIEVAL = \"\"\"Ты - AI-аннотатор финансовых новостей, специализирующийся на анализе и интерпретации причинно-следственных связей в финансовых событиях. \n",
    "Твоя задача — анализировать пользовательское сообщение и предоставлять дополнительный контекст для улучшения поиска текста в векторной базе данных. \n",
    "\n",
    "### Используй следующие подсказки для корректного выполнения задачи:\n",
    "1. В маленьких кусках текста — дополни контекст, раскрыв тему новости более подробно.\n",
    "2. В больших текстах — сделай контекстуальное сжатие для более правильного описания новости.\n",
    "3. Строго используй заданный формат вывода.\n",
    "\n",
    "### Формат вывода:\n",
    "{\n",
    "    \"description_chunk\": Контекстуальное описание чанка. Для маленьких текстов — добавь детали, для больших — сделай сжатое резюме. Описание должно быть четким, информативным и содержать ключевые детали.\n",
    "    \"topic\": Тема новости. Выбери одну из следующих категорий: акции, облигации, золото, нефть, криптовалюта, другое. Если тема не подходит ни под одну категорию, укажи \"другое\".\n",
    "}\n",
    "\n",
    "### Пример 1 (маленький текст):\n",
    "Вход: \"Цены на нефть выросли на 5%.\"\n",
    "Выход: {\n",
    "    \"description_chunk\": \"Цены на нефть выросли на 5% из-за сокращения поставок со стороны крупных производителей, таких как ОПЕК+, и увеличения спроса на энергоносители в связи с сезонным ростом экономической активности.\",\n",
    "    \"topic\": \"нефть\"\n",
    "}\n",
    "\n",
    "### Пример 2 (большой текст):\n",
    "Вход: \"Компания XYZ объявила о выпуске новых акций для привлечения капитала. Это решение было принято в связи с необходимостью финансирования масштабного расширения производства. Однако инвесторы отреагировали на это негативно, что привело к падению стоимости акций на 10%.\"\n",
    "Выход: {\n",
    "    \"description_chunk\": \"Компания XYZ выпустила новые акции для финансирования расширения производства, что вызвало негативную реакцию инвесторов и привело к падению стоимости акций на 10%.\",\n",
    "    \"topic\": \"акции\"\n",
    "}\n",
    "\n",
    "При создании описания придерживайся нейтрального тона, избегай субъективных оценок и сосредоточься на фактах и причинно-следственных связях:\"\"\""
   ]
  },
  {
   "cell_type": "code",
   "execution_count": null,
   "metadata": {},
   "outputs": [],
   "source": [
    "def process_news(sample):\n",
    "    messages = [\n",
    "        {\"role\": \"system\", \"content\": SYSTEM_CONTEXTUAL_RETRIEVAL},\n",
    "        {\"role\": \"user\", \"content\": sample[\"news\"]}\n",
    "    ]\n",
    "\n",
    "    output = deep_seek_client.chat.completions.create(\n",
    "        model=\"deepseek-chat\",\n",
    "        messages=messages,\n",
    "        stream=False,\n",
    "        temperature=1.5\n",
    "    ).choices[0].message.content\n",
    "\n",
    "    try:\n",
    "        output = json.loads(output)\n",
    "    except json.JSONDecodeError:\n",
    "        output = \"error\"\n",
    "\n",
    "    output |= {\"date\": sample[\"date\"], \"title\": sample[\"title\"]}\n",
    "    print(output)\n",
    "\n",
    "    return output"
   ]
  },
  {
   "cell_type": "code",
   "execution_count": null,
   "metadata": {},
   "outputs": [],
   "source": [
    "outputs = []\n",
    "\n",
    "with ThreadPoolExecutor(max_workers=10) as executor:\n",
    "    futures = [executor.submit(process_news, sample) for _, sample in df_new.iloc[5450:, :].iterrows()]\n",
    "    for future in futures:\n",
    "        outputs.append(future.result())\n",
    "\n",
    "print(outputs)"
   ]
  },
  {
   "cell_type": "markdown",
   "metadata": {},
   "source": [
    "# Запись датасета"
   ]
  },
  {
   "cell_type": "code",
   "execution_count": 76,
   "metadata": {},
   "outputs": [],
   "source": [
    "with open(\"./data/contextual_dataset.json\", \"w\", encoding=\"utf-8\") as f:\n",
    "    json.dump(outputs, f, ensure_ascii=False)"
   ]
  }
 ],
 "metadata": {
  "kernelspec": {
   "display_name": ".venv",
   "language": "python",
   "name": "python3"
  },
  "language_info": {
   "codemirror_mode": {
    "name": "ipython",
    "version": 3
   },
   "file_extension": ".py",
   "mimetype": "text/x-python",
   "name": "python",
   "nbconvert_exporter": "python",
   "pygments_lexer": "ipython3",
   "version": "3.12.2"
  }
 },
 "nbformat": 4,
 "nbformat_minor": 2
}
